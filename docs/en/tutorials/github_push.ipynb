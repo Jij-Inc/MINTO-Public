{
 "cells": [
  {
   "cell_type": "markdown",
   "metadata": {},
   "source": [
    "# Push to GitHub and Pull Experiments\n",
    "\n",
    "This tutorial demonstrates how to push experiments managed by MINTO to GitHub Packages using OMMX Artifact functionality, and how other users can pull these experiments. \n",
    "\n",
    "OMMX Artifact allows you to push experimental results to other container registries as well. By pushing to GitHub Packages, you can manage both your code and experimental results on GitHub, making it easier to share with your team."
   ]
  },
  {
   "cell_type": "markdown",
   "metadata": {},
   "source": [
    "First, let's conduct numerical experiments for mathematical optimization. Here, we will perform the same numerical experiments as in [\"Quick Start\"](/minto/quickstart).\n",
    "For details, please refer to the original tutorial."
   ]
  },
  {
   "cell_type": "code",
   "execution_count": 1,
   "metadata": {},
   "outputs": [],
   "source": [
    "import minto\n",
    "import ommx_pyscipopt_adapter as scip_ad\n",
    "from ommx.dataset import miplib2017"
   ]
  },
  {
   "cell_type": "code",
   "execution_count": 2,
   "metadata": {},
   "outputs": [],
   "source": [
    "instance_name = \"reblock115\"\n",
    "instance = miplib2017(instance_name)\n",
    "\n",
    "timelimit_list = [0.1, 0.5, 1, 2]\n",
    "\n",
    "experiment = minto.Experiment(\"scip_reblock115\", auto_saving=False)\n",
    "\n",
    "experiment.log_instance(instance_name, instance)\n",
    "adapter = scip_ad.OMMXPySCIPOptAdapter(instance)\n",
    "scip_model = adapter.solver_input\n",
    "\n",
    "for timelimit in timelimit_list:\n",
    "    with experiment.run():\n",
    "        experiment.log_parameter(\"timelimit\", timelimit)\n",
    "\n",
    "        # Solve by SCIP\n",
    "        scip_model.setParam(\"limits/time\", timelimit)\n",
    "        scip_model.optimize()\n",
    "        solution = adapter.decode(scip_model)\n",
    "\n",
    "        experiment.log_solution(\"scip\", solution)"
   ]
  },
  {
   "cell_type": "code",
   "execution_count": 3,
   "metadata": {},
   "outputs": [
    {
     "data": {
      "text/html": [
       "<div>\n",
       "<style scoped>\n",
       "    .dataframe tbody tr th:only-of-type {\n",
       "        vertical-align: middle;\n",
       "    }\n",
       "\n",
       "    .dataframe tbody tr th {\n",
       "        vertical-align: top;\n",
       "    }\n",
       "\n",
       "    .dataframe thead tr th {\n",
       "        text-align: left;\n",
       "    }\n",
       "\n",
       "    .dataframe thead tr:last-of-type th {\n",
       "        text-align: right;\n",
       "    }\n",
       "</style>\n",
       "<table border=\"1\" class=\"dataframe\">\n",
       "  <thead>\n",
       "    <tr>\n",
       "      <th></th>\n",
       "      <th colspan=\"6\" halign=\"left\">solution_scip</th>\n",
       "      <th>parameter</th>\n",
       "      <th colspan=\"2\" halign=\"left\">metadata</th>\n",
       "    </tr>\n",
       "    <tr>\n",
       "      <th></th>\n",
       "      <th>objective</th>\n",
       "      <th>feasible</th>\n",
       "      <th>optimality</th>\n",
       "      <th>relaxation</th>\n",
       "      <th>start</th>\n",
       "      <th>name</th>\n",
       "      <th>timelimit</th>\n",
       "      <th>run_id</th>\n",
       "      <th>elapsed_time</th>\n",
       "    </tr>\n",
       "    <tr>\n",
       "      <th>run_id</th>\n",
       "      <th></th>\n",
       "      <th></th>\n",
       "      <th></th>\n",
       "      <th></th>\n",
       "      <th></th>\n",
       "      <th></th>\n",
       "      <th></th>\n",
       "      <th></th>\n",
       "      <th></th>\n",
       "    </tr>\n",
       "  </thead>\n",
       "  <tbody>\n",
       "    <tr>\n",
       "      <th>0</th>\n",
       "      <td>0.000000e+00</td>\n",
       "      <td>True</td>\n",
       "      <td>0</td>\n",
       "      <td>0</td>\n",
       "      <td>None</td>\n",
       "      <td>scip</td>\n",
       "      <td>0.1</td>\n",
       "      <td>0</td>\n",
       "      <td>0.114259</td>\n",
       "    </tr>\n",
       "    <tr>\n",
       "      <th>1</th>\n",
       "      <td>-2.841909e+07</td>\n",
       "      <td>True</td>\n",
       "      <td>0</td>\n",
       "      <td>0</td>\n",
       "      <td>None</td>\n",
       "      <td>scip</td>\n",
       "      <td>0.5</td>\n",
       "      <td>1</td>\n",
       "      <td>0.451741</td>\n",
       "    </tr>\n",
       "    <tr>\n",
       "      <th>2</th>\n",
       "      <td>-2.841909e+07</td>\n",
       "      <td>True</td>\n",
       "      <td>0</td>\n",
       "      <td>0</td>\n",
       "      <td>None</td>\n",
       "      <td>scip</td>\n",
       "      <td>1.0</td>\n",
       "      <td>2</td>\n",
       "      <td>0.512328</td>\n",
       "    </tr>\n",
       "    <tr>\n",
       "      <th>3</th>\n",
       "      <td>-2.841909e+07</td>\n",
       "      <td>True</td>\n",
       "      <td>0</td>\n",
       "      <td>0</td>\n",
       "      <td>None</td>\n",
       "      <td>scip</td>\n",
       "      <td>2.0</td>\n",
       "      <td>3</td>\n",
       "      <td>1.011504</td>\n",
       "    </tr>\n",
       "  </tbody>\n",
       "</table>\n",
       "</div>"
      ],
      "text/plain": [
       "       solution_scip                                            parameter  \\\n",
       "           objective feasible optimality relaxation start  name timelimit   \n",
       "run_id                                                                      \n",
       "0       0.000000e+00     True          0          0  None  scip       0.1   \n",
       "1      -2.841909e+07     True          0          0  None  scip       0.5   \n",
       "2      -2.841909e+07     True          0          0  None  scip       1.0   \n",
       "3      -2.841909e+07     True          0          0  None  scip       2.0   \n",
       "\n",
       "       metadata               \n",
       "         run_id elapsed_time  \n",
       "run_id                        \n",
       "0             0     0.114259  \n",
       "1             1     0.451741  \n",
       "2             2     0.512328  \n",
       "3             3     1.011504  "
      ]
     },
     "execution_count": 3,
     "metadata": {},
     "output_type": "execute_result"
    }
   ],
   "source": [
    "experiment.get_run_table()"
   ]
  },
  {
   "cell_type": "markdown",
   "metadata": {},
   "source": [
    "## Pushing Results to GitHub\n",
    "Let's learn how to push your experimental results to GitHub Packages.\n",
    "\n",
    "### Prerequisites\n",
    "\n",
    "1. You'll need a GitHub account and repository.\n",
    "2. If you haven't created one yet, please refer to the GitHub documentation on creating a repository. You'll need to configure OMMX Artifact to access GitHub Packages. While detailed instructions can be found in the OMMX Artifact Notebook, we'll cover the essential setup steps for pushing below.\n",
    "\n",
    "Pushing to GitHub Packages requires authentication using either a Personal Access Token (PAT) or GITHUB_TOKEN on GitHub Actions. You have two options for authentication:\n",
    "\n",
    "### Authentication Setup\n",
    "\n",
    "Pushing to GitHub Packages requires authentication using either a Personal Access Token (PAT) or GITHUB_TOKEN on GitHub Actions. You have two options for authentication:\n",
    "\n",
    "1. Using the CLI:\n",
    "    Run ommx login to store authentication information locally on your machine\n",
    "\n",
    "2. Using Environment Variables:\n",
    "\n",
    "    - Set the following environment variables:\n",
    "    ```yaml\n",
    "    env:\n",
    "        OMMX_BASIC_AUTH_DOMAIN: ghcr.io\n",
    "        OMMX_BASIC_AUTH_USERNAME: ${{ github.actor }}\n",
    "        OMMX_BASIC_AUTH_PASSWORD: ${{ github.token }}\n",
    "    ```\n",
    "\n",
    "    - For the `OMMX_BASIC_AUTH_PASSWORD`, you'll need to create a GitHub Personal Access Token. Follow the GitHub guide on creating a Personal Access Token, and make sure to enable the `write:packages` permission.\n",
    "\n",
    "Note: We use OMMX Artifact functionality for pushing and pulling to/from GitHub Packages. Therefore, GitHub authentication and other settings follow the same configuration as OMMX Artifact. For more details, please refer to [this notebook](https://github.com/Jij-Inc/ommx/blob/main/notebooks/artifact.ipynb).\n",
    "\n",
    "### Pushing to GitHub Packages\n",
    "Once your authentication is set up, you can use the Experiment.push_github method to push to GitHub Packages. The method accepts the following parameters:\n",
    "\n",
    "- org: Your GitHub Organization name\n",
    "- repo: Your GitHub repository name\n",
    "- name: The Artifact name (defaults to `Experiment.name`)\n",
    "- tag: Tag name (defaults to `Experiment.timestamp.strftime('%Y%m%d%H%M%S')`)"
   ]
  },
  {
   "cell_type": "code",
   "execution_count": 4,
   "metadata": {},
   "outputs": [],
   "source": [
    "# import os\n",
    "\n",
    "# If environment variables are not set, please use the following to set them.\n",
    "# Environment variables\n",
    "# os.environ[\"OMMX_BASIC_AUTH_DOMAIN\"] = 'ghcr.io'\n",
    "# os.environ[\"OMMX_BASIC_AUTH_USERNAME\"] = 'xxx'\n",
    "# os.environ[\"OMMX_BASIC_AUTH_PASSWORD\"] = \"xxx\""
   ]
  },
  {
   "cell_type": "markdown",
   "metadata": {},
   "source": [
    "Let's try pushing to GitHub Packages using the `Experiment.push_github` method. As mentioned above, you don't need to specify the name and tag parameters.\n",
    "The method returns an `ommx.Artifact` object, and you can check the pushed image name using `ommx.Artifact.image_name`."
   ]
  },
  {
   "cell_type": "code",
   "execution_count": 5,
   "metadata": {},
   "outputs": [
    {
     "ename": "RuntimeError",
     "evalue": "https://ghcr.io/token?scope=repository%3Ajij-inc%2Fminto-public%2Fscip_reblock115%3Apull&service=ghcr.io: status code 401",
     "output_type": "error",
     "traceback": [
      "\u001b[0;31m---------------------------------------------------------------------------\u001b[0m",
      "\u001b[0;31mRuntimeError\u001b[0m                              Traceback (most recent call last)",
      "Cell \u001b[0;32mIn[5], line 1\u001b[0m\n\u001b[0;32m----> 1\u001b[0m artifact \u001b[38;5;241m=\u001b[39m \u001b[43mexperiment\u001b[49m\u001b[38;5;241;43m.\u001b[39;49m\u001b[43mpush_github\u001b[49m\u001b[43m(\u001b[49m\u001b[43morg\u001b[49m\u001b[38;5;241;43m=\u001b[39;49m\u001b[38;5;124;43m\"\u001b[39;49m\u001b[38;5;124;43mJij-Inc\u001b[39;49m\u001b[38;5;124;43m\"\u001b[39;49m\u001b[43m,\u001b[49m\u001b[43m \u001b[49m\u001b[43mrepo\u001b[49m\u001b[38;5;241;43m=\u001b[39;49m\u001b[38;5;124;43m\"\u001b[39;49m\u001b[38;5;124;43mMINTO-Public\u001b[39;49m\u001b[38;5;124;43m\"\u001b[39;49m\u001b[43m)\u001b[49m\n\u001b[1;32m      2\u001b[0m artifact\u001b[38;5;241m.\u001b[39mimage_name\n",
      "File \u001b[0;32m/opt/conda/lib/python3.11/site-packages/minto/experiment.py:551\u001b[0m, in \u001b[0;36mExperiment.push_github\u001b[0;34m(self, org, repo, name, tag)\u001b[0m\n\u001b[1;32m    549\u001b[0m \u001b[38;5;28mself\u001b[39m\u001b[38;5;241m.\u001b[39mdataspace\u001b[38;5;241m.\u001b[39madd_to_artifact_builder(builder)\n\u001b[1;32m    550\u001b[0m artifact \u001b[38;5;241m=\u001b[39m builder\u001b[38;5;241m.\u001b[39mbuild()\n\u001b[0;32m--> 551\u001b[0m \u001b[43martifact\u001b[49m\u001b[38;5;241;43m.\u001b[39;49m\u001b[43mpush\u001b[49m\u001b[43m(\u001b[49m\u001b[43m)\u001b[49m\n\u001b[1;32m    552\u001b[0m \u001b[38;5;28;01mreturn\u001b[39;00m artifact\n",
      "File \u001b[0;32m/opt/conda/lib/python3.11/site-packages/ommx/artifact.py:158\u001b[0m, in \u001b[0;36mArtifact.push\u001b[0;34m(self)\u001b[0m\n\u001b[1;32m    154\u001b[0m \u001b[38;5;28;01mdef\u001b[39;00m \u001b[38;5;21mpush\u001b[39m(\u001b[38;5;28mself\u001b[39m):\n\u001b[1;32m    155\u001b[0m \u001b[38;5;250m    \u001b[39m\u001b[38;5;124;03m\"\"\"\u001b[39;00m\n\u001b[1;32m    156\u001b[0m \u001b[38;5;124;03m    Push the artifact to remote registry\u001b[39;00m\n\u001b[1;32m    157\u001b[0m \u001b[38;5;124;03m    \"\"\"\u001b[39;00m\n\u001b[0;32m--> 158\u001b[0m     \u001b[38;5;28;43mself\u001b[39;49m\u001b[38;5;241;43m.\u001b[39;49m\u001b[43m_base\u001b[49m\u001b[38;5;241;43m.\u001b[39;49m\u001b[43mpush\u001b[49m\u001b[43m(\u001b[49m\u001b[43m)\u001b[49m\n",
      "File \u001b[0;32m/opt/conda/lib/python3.11/site-packages/ommx/artifact.py:100\u001b[0m, in \u001b[0;36mArtifactDir.push\u001b[0;34m(self)\u001b[0m\n\u001b[1;32m     99\u001b[0m \u001b[38;5;28;01mdef\u001b[39;00m \u001b[38;5;21mpush\u001b[39m(\u001b[38;5;28mself\u001b[39m):\n\u001b[0;32m--> 100\u001b[0m     \u001b[38;5;28;43mself\u001b[39;49m\u001b[38;5;241;43m.\u001b[39;49m\u001b[43m_base\u001b[49m\u001b[38;5;241;43m.\u001b[39;49m\u001b[43mpush\u001b[49m\u001b[43m(\u001b[49m\u001b[43m)\u001b[49m\n",
      "\u001b[0;31mRuntimeError\u001b[0m: https://ghcr.io/token?scope=repository%3Ajij-inc%2Fminto-public%2Fscip_reblock115%3Apull&service=ghcr.io: status code 401"
     ]
    }
   ],
   "source": [
    "artifact = experiment.push_github(org=\"Jij-Inc\", repo=\"MINTO-Public\")\n",
    "artifact.image_name"
   ]
  },
  {
   "cell_type": "markdown",
   "metadata": {},
   "source": [
    "## Pull from GitHub\n",
    "\n",
    "Next, let's try pulling the image we pushed to GitHub Packages. For this purpose, we use the `minto.Experiment.load_from_registry` method. This method supports pulling from other Container Registries as well as GitHub Packages. Therefore, you need to specify the image name directly."
   ]
  },
  {
   "cell_type": "code",
   "execution_count": 6,
   "metadata": {},
   "outputs": [
    {
     "ename": "RuntimeError",
     "evalue": "https://ghcr.io/token?scope=repository%3Ajij-inc%2Fminto-public%2Fscip_reblock115%3Apull&service=ghcr.io: status code 401",
     "output_type": "error",
     "traceback": [
      "\u001b[0;31m---------------------------------------------------------------------------\u001b[0m",
      "\u001b[0;31mRuntimeError\u001b[0m                              Traceback (most recent call last)",
      "Cell \u001b[0;32mIn[6], line 1\u001b[0m\n\u001b[0;32m----> 1\u001b[0m exp2 \u001b[38;5;241m=\u001b[39m \u001b[43mminto\u001b[49m\u001b[38;5;241;43m.\u001b[39;49m\u001b[43mExperiment\u001b[49m\u001b[38;5;241;43m.\u001b[39;49m\u001b[43mload_from_registry\u001b[49m\u001b[43m(\u001b[49m\n\u001b[1;32m      2\u001b[0m \u001b[43m    \u001b[49m\u001b[38;5;124;43m\"\u001b[39;49m\u001b[38;5;124;43mghcr.io/jij-inc/minto-public/scip_reblock115:20241223101904\u001b[39;49m\u001b[38;5;124;43m\"\u001b[39;49m\n\u001b[1;32m      3\u001b[0m \u001b[43m)\u001b[49m\n",
      "File \u001b[0;32m/opt/conda/lib/python3.11/site-packages/minto/experiment.py:576\u001b[0m, in \u001b[0;36mExperiment.load_from_registry\u001b[0;34m(cls, imagename)\u001b[0m\n\u001b[1;32m    566\u001b[0m \u001b[38;5;129m@classmethod\u001b[39m\n\u001b[1;32m    567\u001b[0m \u001b[38;5;28;01mdef\u001b[39;00m \u001b[38;5;21mload_from_registry\u001b[39m(\u001b[38;5;28mcls\u001b[39m, imagename: \u001b[38;5;28mstr\u001b[39m) \u001b[38;5;241m-\u001b[39m\u001b[38;5;241m>\u001b[39m \u001b[38;5;124m\"\u001b[39m\u001b[38;5;124mExperiment\u001b[39m\u001b[38;5;124m\"\u001b[39m:\n\u001b[1;32m    568\u001b[0m \u001b[38;5;250m    \u001b[39m\u001b[38;5;124;03m\"\"\"Load an experiment from a Docker registry.\u001b[39;00m\n\u001b[1;32m    569\u001b[0m \n\u001b[1;32m    570\u001b[0m \u001b[38;5;124;03m    Args:\u001b[39;00m\n\u001b[0;32m   (...)\u001b[0m\n\u001b[1;32m    574\u001b[0m \u001b[38;5;124;03m        Experiment: Instance of the loaded experiment.\u001b[39;00m\n\u001b[1;32m    575\u001b[0m \u001b[38;5;124;03m    \"\"\"\u001b[39;00m\n\u001b[0;32m--> 576\u001b[0m     artifact \u001b[38;5;241m=\u001b[39m \u001b[43mox_artifact\u001b[49m\u001b[38;5;241;43m.\u001b[39;49m\u001b[43mArtifact\u001b[49m\u001b[38;5;241;43m.\u001b[39;49m\u001b[43mload\u001b[49m\u001b[43m(\u001b[49m\u001b[43mimagename\u001b[49m\u001b[43m)\u001b[49m\n\u001b[1;32m    577\u001b[0m     dataspace \u001b[38;5;241m=\u001b[39m ExperimentDataSpace\u001b[38;5;241m.\u001b[39mload_from_ommx_artifact(artifact)\n\u001b[1;32m    578\u001b[0m     exp_name \u001b[38;5;241m=\u001b[39m dataspace\u001b[38;5;241m.\u001b[39mexperiment_datastore\u001b[38;5;241m.\u001b[39mmeta_data[\u001b[38;5;124m\"\u001b[39m\u001b[38;5;124mexperiment_name\u001b[39m\u001b[38;5;124m\"\u001b[39m]\n",
      "File \u001b[0;32m/opt/conda/lib/python3.11/site-packages/ommx/artifact.py:151\u001b[0m, in \u001b[0;36mArtifact.load\u001b[0;34m(image_name)\u001b[0m\n\u001b[1;32m    136\u001b[0m \u001b[38;5;129m@staticmethod\u001b[39m\n\u001b[1;32m    137\u001b[0m \u001b[38;5;28;01mdef\u001b[39;00m \u001b[38;5;21mload\u001b[39m(image_name: \u001b[38;5;28mstr\u001b[39m) \u001b[38;5;241m-\u001b[39m\u001b[38;5;241m>\u001b[39m Artifact:\n\u001b[1;32m    138\u001b[0m \u001b[38;5;250m    \u001b[39m\u001b[38;5;124;03m\"\"\"\u001b[39;00m\n\u001b[1;32m    139\u001b[0m \u001b[38;5;124;03m    Load an artifact stored as container image in local or remote registry\u001b[39;00m\n\u001b[1;32m    140\u001b[0m \n\u001b[0;32m   (...)\u001b[0m\n\u001b[1;32m    149\u001b[0m \n\u001b[1;32m    150\u001b[0m \u001b[38;5;124;03m    \"\"\"\u001b[39;00m\n\u001b[0;32m--> 151\u001b[0m     base \u001b[38;5;241m=\u001b[39m \u001b[43mArtifactDir\u001b[49m\u001b[38;5;241;43m.\u001b[39;49m\u001b[43mfrom_image_name\u001b[49m\u001b[43m(\u001b[49m\u001b[43mimage_name\u001b[49m\u001b[43m)\u001b[49m\n\u001b[1;32m    152\u001b[0m     \u001b[38;5;28;01mreturn\u001b[39;00m Artifact(base)\n",
      "File \u001b[0;32m/opt/conda/lib/python3.11/site-packages/ommx/artifact.py:82\u001b[0m, in \u001b[0;36mArtifactDir.from_image_name\u001b[0;34m(image_name)\u001b[0m\n\u001b[1;32m     80\u001b[0m \u001b[38;5;129m@staticmethod\u001b[39m\n\u001b[1;32m     81\u001b[0m \u001b[38;5;28;01mdef\u001b[39;00m \u001b[38;5;21mfrom_image_name\u001b[39m(image_name: \u001b[38;5;28mstr\u001b[39m) \u001b[38;5;241m-\u001b[39m\u001b[38;5;241m>\u001b[39m ArtifactDir:\n\u001b[0;32m---> 82\u001b[0m     \u001b[38;5;28;01mreturn\u001b[39;00m ArtifactDir(\u001b[43m_ArtifactDir\u001b[49m\u001b[38;5;241;43m.\u001b[39;49m\u001b[43mfrom_image_name\u001b[49m\u001b[43m(\u001b[49m\u001b[43mimage_name\u001b[49m\u001b[43m)\u001b[49m)\n",
      "\u001b[0;31mRuntimeError\u001b[0m: https://ghcr.io/token?scope=repository%3Ajij-inc%2Fminto-public%2Fscip_reblock115%3Apull&service=ghcr.io: status code 401"
     ]
    }
   ],
   "source": [
    "exp2 = minto.Experiment.load_from_registry(\n",
    "    \"ghcr.io/jij-inc/minto-public/scip_reblock115:20241223101904\"\n",
    ")"
   ]
  },
  {
   "cell_type": "code",
   "execution_count": 7,
   "metadata": {},
   "outputs": [
    {
     "ename": "NameError",
     "evalue": "name 'exp2' is not defined",
     "output_type": "error",
     "traceback": [
      "\u001b[0;31m---------------------------------------------------------------------------\u001b[0m",
      "\u001b[0;31mNameError\u001b[0m                                 Traceback (most recent call last)",
      "Cell \u001b[0;32mIn[7], line 1\u001b[0m\n\u001b[0;32m----> 1\u001b[0m \u001b[43mexp2\u001b[49m\u001b[38;5;241m.\u001b[39mget_run_table()\n",
      "\u001b[0;31mNameError\u001b[0m: name 'exp2' is not defined"
     ]
    }
   ],
   "source": [
    "exp2.get_run_table()"
   ]
  },
  {
   "cell_type": "markdown",
   "metadata": {},
   "source": [
    "We have introduced how to push and pull to/from GitHub Packages. This method makes it easier to manage experimental results with MINTO on GitHub and share them with your team."
   ]
  },
  {
   "cell_type": "code",
   "execution_count": null,
   "metadata": {},
   "outputs": [],
   "source": []
  }
 ],
 "metadata": {
  "kernelspec": {
   "display_name": "Python 3 (ipykernel)",
   "language": "python",
   "name": "python3"
  },
  "language_info": {
   "codemirror_mode": {
    "name": "ipython",
    "version": 3
   },
   "file_extension": ".py",
   "mimetype": "text/x-python",
   "name": "python",
   "nbconvert_exporter": "python",
   "pygments_lexer": "ipython3",
   "version": "3.11.10"
  }
 },
 "nbformat": 4,
 "nbformat_minor": 4
}
