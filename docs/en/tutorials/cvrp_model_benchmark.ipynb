{
 "cells": [
  {
   "cell_type": "markdown",
   "metadata": {},
   "source": [
    "# Performance Comparison of MIP Solver Formulations for Capacitated VRP\n",
    "\n",
    "This notebook compares the performance of different formulations for the Capacitated Vehicle Routing Problem (CVRP) using MIP solvers. CVRP is a variant of the Vehicle Routing Problem (VRP) where each customer has a demand and vehicles have capacity constraints. CVRP generalizes VRP, which can be considered as a special case of CVRP.\n",
    "\n",
    "We implement each model using JijModeling, manage optimization results with MINTO, and solve the models using SCIP. Finally, we compare the performance of each model.\n",
    "\n",
    "## MTZ formulation and Flow formulation\n",
    "\n",
    "For CVRP, there are two major formulations: MTZ formulation (also called potential formulation) and Flow formulation.\n",
    "\n",
    "### About Each Formulation\n",
    "\n",
    "MTZ formulation and Flow formulation differ in how they track cumulative demand. MTZ formulation tracks cumulative demand at each customer node, while Flow formulation tracks flow amount on each edge.\n",
    "\n",
    "- MTZ (Miller-Tucker-Zemlin) Formulation:\n",
    "    MTZ formulation introduces continuous variables representing cumulative demand at each customer node to express subtour elimination constraints. This method has relatively fewer variables and a simpler model but weaker LP relaxation.\n",
    "\n",
    "- Flow Formulation:\n",
    "    Flow formulation introduces continuous variables representing flow amount on each edge and uses flow conservation laws to express subtour elimination constraints. This method has more variables but stronger LP relaxation.\n",
    "\n",
    "Let's implement these two formulations and compare their performance."
   ]
  },
  {
   "cell_type": "markdown",
   "metadata": {},
   "source": [
    "## Common Parts of CVRP Formulation\n",
    "\n",
    "Let's first implement the parts common to both models."
   ]
  },
  {
   "cell_type": "code",
   "execution_count": 10,
   "metadata": {},
   "outputs": [],
   "source": [
    "import minto\n",
    "import jijmodeling as jm\n",
    "from minto.problems.cvrp import CVRPMTZ, CVRPFlow"
   ]
  },
  {
   "cell_type": "markdown",
   "metadata": {},
   "source": [
    "## MTZ formulation"
   ]
  },
  {
   "cell_type": "code",
   "execution_count": 11,
   "metadata": {},
   "outputs": [
    {
     "data": {
      "text/latex": [
       "$$\\begin{array}{cccc}\\text{Problem:} & \\text{CVRPMTZ} & & \\\\& & \\min \\quad \\displaystyle \\sum_{i = 0}^{n - 1} \\sum_{j = 0}^{n - 1} c_{i, j} \\cdot x_{i, j} & \\\\\\text{{s.t.}} & & & \\\\ & \\text{in} & \\displaystyle \\sum_{\\ast_{1} = 0}^{n - 1} x_{i, \\ast_{1}} = 1 & \\forall i \\in \\left\\{i \\in \\left\\{0,\\ldots,n - 1\\right\\} \\mid i > 0 \\right\\} \\\\ & \\text{no loop} & \\displaystyle x_{i, i} = 0 & \\forall i \\in \\left\\{0,\\ldots,n - 1\\right\\} \\\\ & \\text{out} & \\displaystyle \\sum_{\\ast_{0} = 0}^{n - 1} x_{\\ast_{0}, i} = 1 & \\forall i \\in \\left\\{i \\in \\left\\{0,\\ldots,n - 1\\right\\} \\mid i > 0 \\right\\} \\\\ & \\text{potiantial} & \\displaystyle u_{i} + D_{j} - Q \\cdot \\left(- x_{i, j} + 1\\right) + \\left(Q - D_{i} - D_{j}\\right) \\cdot x_{j, i} \\leq u_{j} & \\forall i \\in \\left\\{0,\\ldots,n - 1\\right\\} \\forall j \\in \\left\\{j \\in \\left\\{0,\\ldots,n - 1\\right\\} \\mid j \\neq 0 \\right\\} \\\\\\text{{where}} & & & \\\\& x & 2\\text{-dim binary variable}& \\text{use edge or not}\\\\& u & 1\\text{-dim continuous variable}& \\text{cumulative demand}\\\\ & & \\text{lower bound: }D & \\\\ & & \\text{upper bound: }Q & \\\\\\end{array}$$"
      ],
      "text/plain": [
       "<jijmodeling.Problem at 0x108012600>"
      ]
     },
     "execution_count": 11,
     "metadata": {},
     "output_type": "execute_result"
    }
   ],
   "source": [
    "CVRPMTZ().problem()"
   ]
  },
  {
   "cell_type": "markdown",
   "metadata": {},
   "source": [
    "## Flow formulation"
   ]
  },
  {
   "cell_type": "code",
   "execution_count": 12,
   "metadata": {},
   "outputs": [
    {
     "data": {
      "text/latex": [
       "$$\\begin{array}{cccc}\\text{Problem:} & \\text{CVRPFlow} & & \\\\& & \\min \\quad \\displaystyle \\sum_{i = 0}^{n - 1} \\sum_{j = 0}^{n - 1} c_{i, j} \\cdot x_{i, j} & \\\\\\text{{s.t.}} & & & \\\\ & \\text{flow} & \\displaystyle \\sum_{j = 0}^{n - 1} f_{j, i} - \\sum_{j = 0}^{n - 1} f_{i, j} = D_{i} & \\forall i \\in \\left\\{i \\in \\left\\{0,\\ldots,n - 1\\right\\} \\mid i > 0 \\right\\} \\\\ & \\text{flow cap} & \\displaystyle f_{i, j} \\leq \\left(Q - D_{i}\\right) \\cdot x_{i, j} & \\forall i \\in \\left\\{0,\\ldots,n - 1\\right\\} \\forall j \\in \\left\\{0,\\ldots,n - 1\\right\\} \\\\ & \\text{in} & \\displaystyle \\sum_{\\ast_{1} = 0}^{n - 1} x_{i, \\ast_{1}} = 1 & \\forall i \\in \\left\\{i \\in \\left\\{0,\\ldots,n - 1\\right\\} \\mid i > 0 \\right\\} \\\\ & \\text{no loop} & \\displaystyle x_{i, i} = 0 & \\forall i \\in \\left\\{0,\\ldots,n - 1\\right\\} \\\\ & \\text{out} & \\displaystyle \\sum_{\\ast_{0} = 0}^{n - 1} x_{\\ast_{0}, i} = 1 & \\forall i \\in \\left\\{i \\in \\left\\{0,\\ldots,n - 1\\right\\} \\mid i > 0 \\right\\} \\\\\\text{{where}} & & & \\\\& x & 2\\text{-dim binary variable}& \\text{use edge or not}\\\\& f & 2\\text{-dim continuous variable}& \\text{cumulative demand}\\\\ & & \\text{lower bound: }0 & \\\\ & & \\text{upper bound: }Q & \\\\\\end{array}$$"
      ],
      "text/plain": [
       "<jijmodeling.Problem at 0x12edc9800>"
      ]
     },
     "execution_count": 12,
     "metadata": {},
     "output_type": "execute_result"
    }
   ],
   "source": [
    "CVRPFlow().problem()"
   ]
  },
  {
   "cell_type": "markdown",
   "metadata": {},
   "source": [
    "## Random CVRP Instance Generation\n",
    "\n",
    "We generate a random CVRP instance to test the models."
   ]
  },
  {
   "cell_type": "code",
   "execution_count": 13,
   "metadata": {},
   "outputs": [],
   "source": [
    "n = 10\n",
    "instance_data = CVRPFlow().random_data(n)\n",
    "xy = instance_data[\"xy\"]"
   ]
  },
  {
   "cell_type": "markdown",
   "metadata": {},
   "source": [
    "## Performance Comparison\n",
    "\n",
    "We compare the performance of the two formulations using the random CVRP instance.\n",
    "The JijModeling implementation is converted to PySCIPOpt using `ommx_pyscipopt_adapter` and solved with SCIP. Results are logged using MINTO.\n",
    "\n",
    "When logging using `.log_instance`, we assign names to each model to make later comparison easier.\n",
    "\n",
    "For this tutorial we set `auto_saving=False`, but in practice it is recommended to use `auto_saving=True` for automatic log saving."
   ]
  },
  {
   "cell_type": "code",
   "execution_count": 14,
   "metadata": {},
   "outputs": [
    {
     "name": "stdout",
     "output_type": "stream",
     "text": [
      "n=8\n",
      "n=9\n",
      "n=10\n",
      "n=11\n",
      "n=12\n",
      "n=13\n"
     ]
    }
   ],
   "source": [
    "import time\n",
    "import ommx_pyscipopt_adapter as scip_ad\n",
    "\n",
    "exp = minto.Experiment(\"cvrp\", auto_saving=False, verbose_logging=False)\n",
    "\n",
    "nlist = [8, 9, 10, 11, 12, 13]\n",
    "for n in nlist:\n",
    "    print(f\"{n=}\")\n",
    "    with exp.run() as run:\n",
    "        instance_data = CVRPFlow().random_data(n)\n",
    "        run.log_parameter(\"n\", n)\n",
    "        intepreter = jm.Interpreter(instance_data)\n",
    "\n",
    "        # MTZ model\n",
    "        mtz_instance = intepreter.eval_problem(CVRPMTZ().problem())\n",
    "        run.log_instance(\"mtz\", mtz_instance)\n",
    "\n",
    "        adapter = scip_ad.OMMXPySCIPOptAdapter(mtz_instance)\n",
    "        scip_model = adapter.solver_input\n",
    "\n",
    "        start = time.time()\n",
    "        scip_model.optimize()\n",
    "        scip_model.getStatus()\n",
    "        elpsed_time = time.time() - start\n",
    "\n",
    "        run.log_parameter(\"mtz_time\", elpsed_time)\n",
    "\n",
    "        mtz_solution = adapter.decode(scip_model)\n",
    "        exp.log_solution(\"mtz\", mtz_solution)\n",
    "\n",
    "        # Flow model\n",
    "        intepreter = jm.Interpreter(instance_data)\n",
    "        flow_instance = intepreter.eval_problem(CVRPFlow().problem())\n",
    "        exp.log_instance(\"flow\", flow_instance)\n",
    "\n",
    "        adapter = scip_ad.OMMXPySCIPOptAdapter(flow_instance)\n",
    "        scip_model = adapter.solver_input\n",
    "\n",
    "        start = time.time()\n",
    "        scip_model.optimize()\n",
    "        scip_model.getStatus()\n",
    "        elpsed_time = time.time() - start\n",
    "\n",
    "        exp.log_parameter(\"flow_time\", elpsed_time)\n",
    "\n",
    "        flow_solution = adapter.decode(scip_model)\n",
    "        exp.log_solution(\"flow\", flow_solution)\n"
   ]
  },
  {
   "cell_type": "code",
   "execution_count": 15,
   "metadata": {},
   "outputs": [
    {
     "data": {
      "text/html": [
       "<div>\n",
       "<style scoped>\n",
       "    .dataframe tbody tr th:only-of-type {\n",
       "        vertical-align: middle;\n",
       "    }\n",
       "\n",
       "    .dataframe tbody tr th {\n",
       "        vertical-align: top;\n",
       "    }\n",
       "\n",
       "    .dataframe thead tr th {\n",
       "        text-align: left;\n",
       "    }\n",
       "\n",
       "    .dataframe thead tr:last-of-type th {\n",
       "        text-align: right;\n",
       "    }\n",
       "</style>\n",
       "<table border=\"1\" class=\"dataframe\">\n",
       "  <thead>\n",
       "    <tr>\n",
       "      <th></th>\n",
       "      <th colspan=\"7\" halign=\"left\">instance_mtz</th>\n",
       "      <th colspan=\"3\" halign=\"left\">instance_flow</th>\n",
       "      <th>...</th>\n",
       "      <th colspan=\"5\" halign=\"left\">solution_flow</th>\n",
       "      <th colspan=\"3\" halign=\"left\">parameter</th>\n",
       "      <th colspan=\"2\" halign=\"left\">metadata</th>\n",
       "    </tr>\n",
       "    <tr>\n",
       "      <th></th>\n",
       "      <th>num_vars</th>\n",
       "      <th>num_binary</th>\n",
       "      <th>num_integer</th>\n",
       "      <th>num_continuous</th>\n",
       "      <th>num_cons</th>\n",
       "      <th>title</th>\n",
       "      <th>name</th>\n",
       "      <th>num_vars</th>\n",
       "      <th>num_binary</th>\n",
       "      <th>num_integer</th>\n",
       "      <th>...</th>\n",
       "      <th>feasible</th>\n",
       "      <th>optimality</th>\n",
       "      <th>relaxation</th>\n",
       "      <th>start</th>\n",
       "      <th>name</th>\n",
       "      <th>n</th>\n",
       "      <th>mtz_time</th>\n",
       "      <th>flow_time</th>\n",
       "      <th>run_id</th>\n",
       "      <th>elapsed_time</th>\n",
       "    </tr>\n",
       "    <tr>\n",
       "      <th>run_id</th>\n",
       "      <th></th>\n",
       "      <th></th>\n",
       "      <th></th>\n",
       "      <th></th>\n",
       "      <th></th>\n",
       "      <th></th>\n",
       "      <th></th>\n",
       "      <th></th>\n",
       "      <th></th>\n",
       "      <th></th>\n",
       "      <th></th>\n",
       "      <th></th>\n",
       "      <th></th>\n",
       "      <th></th>\n",
       "      <th></th>\n",
       "      <th></th>\n",
       "      <th></th>\n",
       "      <th></th>\n",
       "      <th></th>\n",
       "      <th></th>\n",
       "      <th></th>\n",
       "    </tr>\n",
       "  </thead>\n",
       "  <tbody>\n",
       "    <tr>\n",
       "      <th>0</th>\n",
       "      <td>90</td>\n",
       "      <td>81</td>\n",
       "      <td>0</td>\n",
       "      <td>9</td>\n",
       "      <td>None</td>\n",
       "      <td>None</td>\n",
       "      <td>mtz</td>\n",
       "      <td>162</td>\n",
       "      <td>81</td>\n",
       "      <td>0</td>\n",
       "      <td>...</td>\n",
       "      <td>True</td>\n",
       "      <td>1</td>\n",
       "      <td>0</td>\n",
       "      <td>None</td>\n",
       "      <td>flow</td>\n",
       "      <td>8</td>\n",
       "      <td>0.228091</td>\n",
       "      <td>0.824360</td>\n",
       "      <td>0</td>\n",
       "      <td>3.479537</td>\n",
       "    </tr>\n",
       "    <tr>\n",
       "      <th>1</th>\n",
       "      <td>110</td>\n",
       "      <td>100</td>\n",
       "      <td>0</td>\n",
       "      <td>10</td>\n",
       "      <td>None</td>\n",
       "      <td>None</td>\n",
       "      <td>mtz</td>\n",
       "      <td>200</td>\n",
       "      <td>100</td>\n",
       "      <td>0</td>\n",
       "      <td>...</td>\n",
       "      <td>True</td>\n",
       "      <td>1</td>\n",
       "      <td>0</td>\n",
       "      <td>None</td>\n",
       "      <td>flow</td>\n",
       "      <td>9</td>\n",
       "      <td>1.477360</td>\n",
       "      <td>1.914423</td>\n",
       "      <td>1</td>\n",
       "      <td>5.844026</td>\n",
       "    </tr>\n",
       "    <tr>\n",
       "      <th>2</th>\n",
       "      <td>132</td>\n",
       "      <td>121</td>\n",
       "      <td>0</td>\n",
       "      <td>11</td>\n",
       "      <td>None</td>\n",
       "      <td>None</td>\n",
       "      <td>mtz</td>\n",
       "      <td>242</td>\n",
       "      <td>121</td>\n",
       "      <td>0</td>\n",
       "      <td>...</td>\n",
       "      <td>True</td>\n",
       "      <td>1</td>\n",
       "      <td>0</td>\n",
       "      <td>None</td>\n",
       "      <td>flow</td>\n",
       "      <td>10</td>\n",
       "      <td>3.046407</td>\n",
       "      <td>1.469578</td>\n",
       "      <td>2</td>\n",
       "      <td>6.811036</td>\n",
       "    </tr>\n",
       "    <tr>\n",
       "      <th>3</th>\n",
       "      <td>156</td>\n",
       "      <td>144</td>\n",
       "      <td>0</td>\n",
       "      <td>12</td>\n",
       "      <td>None</td>\n",
       "      <td>None</td>\n",
       "      <td>mtz</td>\n",
       "      <td>288</td>\n",
       "      <td>144</td>\n",
       "      <td>0</td>\n",
       "      <td>...</td>\n",
       "      <td>True</td>\n",
       "      <td>1</td>\n",
       "      <td>0</td>\n",
       "      <td>None</td>\n",
       "      <td>flow</td>\n",
       "      <td>11</td>\n",
       "      <td>13.407697</td>\n",
       "      <td>3.754415</td>\n",
       "      <td>3</td>\n",
       "      <td>19.453141</td>\n",
       "    </tr>\n",
       "    <tr>\n",
       "      <th>4</th>\n",
       "      <td>182</td>\n",
       "      <td>169</td>\n",
       "      <td>0</td>\n",
       "      <td>13</td>\n",
       "      <td>None</td>\n",
       "      <td>None</td>\n",
       "      <td>mtz</td>\n",
       "      <td>338</td>\n",
       "      <td>169</td>\n",
       "      <td>0</td>\n",
       "      <td>...</td>\n",
       "      <td>True</td>\n",
       "      <td>1</td>\n",
       "      <td>0</td>\n",
       "      <td>None</td>\n",
       "      <td>flow</td>\n",
       "      <td>12</td>\n",
       "      <td>18.849659</td>\n",
       "      <td>3.561330</td>\n",
       "      <td>4</td>\n",
       "      <td>24.937571</td>\n",
       "    </tr>\n",
       "    <tr>\n",
       "      <th>5</th>\n",
       "      <td>210</td>\n",
       "      <td>196</td>\n",
       "      <td>0</td>\n",
       "      <td>14</td>\n",
       "      <td>None</td>\n",
       "      <td>None</td>\n",
       "      <td>mtz</td>\n",
       "      <td>392</td>\n",
       "      <td>196</td>\n",
       "      <td>0</td>\n",
       "      <td>...</td>\n",
       "      <td>True</td>\n",
       "      <td>1</td>\n",
       "      <td>0</td>\n",
       "      <td>None</td>\n",
       "      <td>flow</td>\n",
       "      <td>13</td>\n",
       "      <td>10.129483</td>\n",
       "      <td>2.566798</td>\n",
       "      <td>5</td>\n",
       "      <td>15.318288</td>\n",
       "    </tr>\n",
       "  </tbody>\n",
       "</table>\n",
       "<p>6 rows × 31 columns</p>\n",
       "</div>"
      ],
      "text/plain": [
       "       instance_mtz                                                            \\\n",
       "           num_vars num_binary num_integer num_continuous num_cons title name   \n",
       "run_id                                                                          \n",
       "0                90         81           0              9     None  None  mtz   \n",
       "1               110        100           0             10     None  None  mtz   \n",
       "2               132        121           0             11     None  None  mtz   \n",
       "3               156        144           0             12     None  None  mtz   \n",
       "4               182        169           0             13     None  None  mtz   \n",
       "5               210        196           0             14     None  None  mtz   \n",
       "\n",
       "       instance_flow                         ... solution_flow             \\\n",
       "            num_vars num_binary num_integer  ...      feasible optimality   \n",
       "run_id                                       ...                            \n",
       "0                162         81           0  ...          True          1   \n",
       "1                200        100           0  ...          True          1   \n",
       "2                242        121           0  ...          True          1   \n",
       "3                288        144           0  ...          True          1   \n",
       "4                338        169           0  ...          True          1   \n",
       "5                392        196           0  ...          True          1   \n",
       "\n",
       "                              parameter                      metadata  \\\n",
       "       relaxation start  name         n   mtz_time flow_time   run_id   \n",
       "run_id                                                                  \n",
       "0               0  None  flow         8   0.228091  0.824360        0   \n",
       "1               0  None  flow         9   1.477360  1.914423        1   \n",
       "2               0  None  flow        10   3.046407  1.469578        2   \n",
       "3               0  None  flow        11  13.407697  3.754415        3   \n",
       "4               0  None  flow        12  18.849659  3.561330        4   \n",
       "5               0  None  flow        13  10.129483  2.566798        5   \n",
       "\n",
       "                     \n",
       "       elapsed_time  \n",
       "run_id               \n",
       "0          3.479537  \n",
       "1          5.844026  \n",
       "2          6.811036  \n",
       "3         19.453141  \n",
       "4         24.937571  \n",
       "5         15.318288  \n",
       "\n",
       "[6 rows x 31 columns]"
      ]
     },
     "execution_count": 15,
     "metadata": {},
     "output_type": "execute_result"
    }
   ],
   "source": [
    "exp.get_run_table()"
   ]
  },
  {
   "cell_type": "code",
   "execution_count": 16,
   "metadata": {},
   "outputs": [
    {
     "data": {
      "image/png": "[encoded data removed]",
      "text/plain": [
       "<Figure size 640x480 with 1 Axes>"
      ]
     },
     "metadata": {},
     "output_type": "display_data"
    }
   ],
   "source": [
    "import matplotlib.pyplot as plt\n",
    "\n",
    "param_table = exp.get_run_table()[\"parameter\"]\n",
    "plt.plot(param_table[\"n\"], param_table[\"mtz_time\"], \"-o\", label=\"MTZ\")\n",
    "plt.plot(param_table[\"n\"], param_table[\"flow_time\"], \"-o\", label=\"Flow\")\n",
    "plt.legend()\n",
    "plt.xlabel(\"n\")\n",
    "plt.ylabel(\"time\")\n",
    "plt.show()"
   ]
  },
  {
   "cell_type": "markdown",
   "metadata": {},
   "source": [
    "## Summary\n",
    "\n",
    "In this notebook, we implemented MTZ and Flow formulations for the Capacitated Vehicle Routing Problem (CVRP) and compared their performance using a random CVRP instance. We found that the Flow formulation is faster than the MTZ formulation for the given instance.\n",
    "\n",
    "It is interesting to note that despite having more variables, the Flow formulation performs better. This serves as a good example of how the effectiveness of branch-and-bound methods can vary depending on the constraint conditions and how easy they are to solve.\n",
    "\n",
    "However, the performance may vary depending on the instance characteristics. For example, different vehicle capacities could lead to significantly different results. Additionally, there are strengthened versions of the MTZ formulation available.\n",
    "\n",
    "Feel free to experiment with different instance generation methods and strengthened versions of the MTZ formulation."
   ]
  }
 ],
 "metadata": {
  "kernelspec": {
   "display_name": "minto",
   "language": "python",
   "name": "python3"
  },
  "language_info": {
   "codemirror_mode": {
    "name": "ipython",
    "version": 3
   },
   "file_extension": ".py",
   "mimetype": "text/x-python",
   "name": "python",
   "nbconvert_exporter": "python",
   "pygments_lexer": "ipython3",
   "version": "3.11.11"
  }
 },
 "nbformat": 4,
 "nbformat_minor": 4
}
