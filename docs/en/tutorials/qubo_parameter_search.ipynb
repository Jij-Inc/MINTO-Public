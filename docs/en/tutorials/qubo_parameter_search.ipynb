{
 "cells": [
  {
   "cell_type": "markdown",
   "metadata": {},
   "source": [
    "# QUBO's hyper parameter search\n",
    "\n",
    "This notebook is a simple example of how to use `MINTO` to explore the hyperparameter space of a QUBO model.\n",
    "For this example, we will handle the Traveling Salesman Problem with quadratic assignment formulation. For more details about the Traveling Salesman Problem, please refer to other resources."
   ]
  },
  {
   "cell_type": "code",
   "execution_count": 1,
   "metadata": {},
   "outputs": [],
   "source": [
    "import minto\n",
    "import matplotlib.pyplot as plt\n",
    "import jijmodeling as jm"
   ]
  },
  {
   "cell_type": "code",
   "execution_count": 2,
   "metadata": {},
   "outputs": [
    {
     "data": {
      "text/latex": [
       "$$\\begin{array}{cccc}\\text{Problem:} & \\text{QuadTSP} & & \\\\& & \\min \\quad \\displaystyle \\sum_{i = 0}^{n - 1} \\sum_{j = 0}^{n - 1} d_{i, j} \\cdot \\sum_{t = 0}^{n - 1} x_{i, t} \\cdot x_{j, \\left(t + 1\\right) \\bmod n} & \\\\\\text{{s.t.}} & & & \\\\ & \\text{one-city} & \\displaystyle \\sum_{\\ast_{1} = 0}^{n - 1} x_{i, \\ast_{1}} = 1 & \\forall i \\in \\left\\{0,\\ldots,n - 1\\right\\} \\\\ & \\text{one-time} & \\displaystyle \\sum_{\\ast_{0} = 0}^{n - 1} x_{\\ast_{0}, t} = 1 & \\forall t \\in \\left\\{0,\\ldots,n - 1\\right\\} \\\\\\text{{where}} & & & \\\\& x & 2\\text{-dim binary variable}\\\\\\end{array}$$"
      ],
      "text/plain": [
       "<jijmodeling.Problem at 0x13ec2d200>"
      ]
     },
     "execution_count": 2,
     "metadata": {},
     "output_type": "execute_result"
    }
   ],
   "source": [
    "import minto.problems.tsp\n",
    "\n",
    "tsp = minto.problems.tsp.QuadTSP()\n",
    "tsp_problem = tsp.problem()\n",
    "\n",
    "n = 8\n",
    "tsp_data = tsp.data(n=n)\n",
    "\n",
    "tsp_problem"
   ]
  },
  {
   "cell_type": "code",
   "execution_count": 3,
   "metadata": {},
   "outputs": [],
   "source": [
    "interpreter = jm.Interpreter(tsp_data)\n",
    "instance = interpreter.eval_problem(tsp_problem)"
   ]
  },
  {
   "cell_type": "markdown",
   "metadata": {},
   "source": [
    "## QUBO formulation\n",
    "\n",
    "$$\n",
    "E(x; A) = \\sum_{i=0}^{n-1} \\sum_{j=0}^{n-1} d_{ij} \\sum_{t=0}^{n-1} x_{it} x_{j, (t+1)\\mod n} \n",
    "+ A \\left[\n",
    "\\sum_i \\left(\\sum_{t} x_{i, t} - 1\\right)^2 + \\sum_t \\left(\\sum_{i} x_{i, t} - 1\\right)^2\n",
    "\\right]\n",
    "$$\n",
    "\n",
    "The parameter $A$ is a hyperparameter that controls the strength of the constraints.\n",
    "\n",
    "In OMMX, we can tune this parameter using the `.to_qubo(uniform_penalty_weight=...)` method and argument `uniform_penalty_weight` to set the value of $A$."
   ]
  },
  {
   "cell_type": "code",
   "execution_count": 9,
   "metadata": {},
   "outputs": [],
   "source": [
    "import ommx_openjij_adapter as oj_ad\n",
    "\n",
    "parameter_values = [0.4, 0.5, 0.6, 0.7, 0.8, 0.9, 1.0]\n",
    "\n",
    "experiment = minto.Experiment(auto_saving=False, verbose_logging=False)\n",
    "for A in parameter_values:\n",
    "    with experiment.run() as run:\n",
    "        ox_sampleset = oj_ad.OMMXOpenJijSAAdapter.sample(instance, uniform_penalty_weight=A, num_reads=30)\n",
    "        run.log_sampleset(ox_sampleset)\n",
    "        run.log_parameter(\"A\", A)"
   ]
  },
  {
   "cell_type": "code",
   "execution_count": 10,
   "metadata": {},
   "outputs": [
    {
     "data": {
      "text/html": [
       "<div>\n",
       "<style scoped>\n",
       "    .dataframe tbody tr th:only-of-type {\n",
       "        vertical-align: middle;\n",
       "    }\n",
       "\n",
       "    .dataframe tbody tr th {\n",
       "        vertical-align: top;\n",
       "    }\n",
       "\n",
       "    .dataframe thead tr th {\n",
       "        text-align: left;\n",
       "    }\n",
       "\n",
       "    .dataframe thead tr:last-of-type th {\n",
       "        text-align: right;\n",
       "    }\n",
       "</style>\n",
       "<table border=\"1\" class=\"dataframe\">\n",
       "  <thead>\n",
       "    <tr>\n",
       "      <th></th>\n",
       "      <th colspan=\"7\" halign=\"left\">sampleset_0</th>\n",
       "      <th>parameter</th>\n",
       "      <th colspan=\"2\" halign=\"left\">metadata</th>\n",
       "    </tr>\n",
       "    <tr>\n",
       "      <th></th>\n",
       "      <th>num_samples</th>\n",
       "      <th>obj_mean</th>\n",
       "      <th>obj_std</th>\n",
       "      <th>obj_min</th>\n",
       "      <th>obj_max</th>\n",
       "      <th>feasible</th>\n",
       "      <th>name</th>\n",
       "      <th>A</th>\n",
       "      <th>run_id</th>\n",
       "      <th>elapsed_time</th>\n",
       "    </tr>\n",
       "    <tr>\n",
       "      <th>run_id</th>\n",
       "      <th></th>\n",
       "      <th></th>\n",
       "      <th></th>\n",
       "      <th></th>\n",
       "      <th></th>\n",
       "      <th></th>\n",
       "      <th></th>\n",
       "      <th></th>\n",
       "      <th></th>\n",
       "      <th></th>\n",
       "    </tr>\n",
       "  </thead>\n",
       "  <tbody>\n",
       "    <tr>\n",
       "      <th>0</th>\n",
       "      <td>30</td>\n",
       "      <td>3.188953</td>\n",
       "      <td>0.357337</td>\n",
       "      <td>2.504148</td>\n",
       "      <td>4.075170</td>\n",
       "      <td>0</td>\n",
       "      <td>0</td>\n",
       "      <td>0.4</td>\n",
       "      <td>0</td>\n",
       "      <td>0.037584</td>\n",
       "    </tr>\n",
       "    <tr>\n",
       "      <th>1</th>\n",
       "      <td>30</td>\n",
       "      <td>3.433684</td>\n",
       "      <td>0.452678</td>\n",
       "      <td>2.613076</td>\n",
       "      <td>4.111693</td>\n",
       "      <td>1</td>\n",
       "      <td>0</td>\n",
       "      <td>0.5</td>\n",
       "      <td>1</td>\n",
       "      <td>0.030556</td>\n",
       "    </tr>\n",
       "    <tr>\n",
       "      <th>2</th>\n",
       "      <td>30</td>\n",
       "      <td>4.433708</td>\n",
       "      <td>0.624318</td>\n",
       "      <td>3.073818</td>\n",
       "      <td>5.788542</td>\n",
       "      <td>1</td>\n",
       "      <td>0</td>\n",
       "      <td>0.6</td>\n",
       "      <td>2</td>\n",
       "      <td>0.034105</td>\n",
       "    </tr>\n",
       "    <tr>\n",
       "      <th>3</th>\n",
       "      <td>30</td>\n",
       "      <td>3.881360</td>\n",
       "      <td>0.676330</td>\n",
       "      <td>2.679128</td>\n",
       "      <td>5.244577</td>\n",
       "      <td>8</td>\n",
       "      <td>0</td>\n",
       "      <td>0.7</td>\n",
       "      <td>3</td>\n",
       "      <td>0.027761</td>\n",
       "    </tr>\n",
       "    <tr>\n",
       "      <th>4</th>\n",
       "      <td>30</td>\n",
       "      <td>3.260340</td>\n",
       "      <td>0.414716</td>\n",
       "      <td>2.679128</td>\n",
       "      <td>4.173075</td>\n",
       "      <td>25</td>\n",
       "      <td>0</td>\n",
       "      <td>0.8</td>\n",
       "      <td>4</td>\n",
       "      <td>0.030891</td>\n",
       "    </tr>\n",
       "    <tr>\n",
       "      <th>5</th>\n",
       "      <td>30</td>\n",
       "      <td>3.278696</td>\n",
       "      <td>0.479787</td>\n",
       "      <td>2.679128</td>\n",
       "      <td>4.483248</td>\n",
       "      <td>28</td>\n",
       "      <td>0</td>\n",
       "      <td>0.9</td>\n",
       "      <td>5</td>\n",
       "      <td>0.031988</td>\n",
       "    </tr>\n",
       "    <tr>\n",
       "      <th>6</th>\n",
       "      <td>30</td>\n",
       "      <td>3.729739</td>\n",
       "      <td>0.748217</td>\n",
       "      <td>2.679128</td>\n",
       "      <td>6.312948</td>\n",
       "      <td>23</td>\n",
       "      <td>0</td>\n",
       "      <td>1.0</td>\n",
       "      <td>6</td>\n",
       "      <td>0.023222</td>\n",
       "    </tr>\n",
       "  </tbody>\n",
       "</table>\n",
       "</div>"
      ],
      "text/plain": [
       "       sampleset_0                                                        \\\n",
       "       num_samples  obj_mean   obj_std   obj_min   obj_max feasible name   \n",
       "run_id                                                                     \n",
       "0               30  3.188953  0.357337  2.504148  4.075170        0    0   \n",
       "1               30  3.433684  0.452678  2.613076  4.111693        1    0   \n",
       "2               30  4.433708  0.624318  3.073818  5.788542        1    0   \n",
       "3               30  3.881360  0.676330  2.679128  5.244577        8    0   \n",
       "4               30  3.260340  0.414716  2.679128  4.173075       25    0   \n",
       "5               30  3.278696  0.479787  2.679128  4.483248       28    0   \n",
       "6               30  3.729739  0.748217  2.679128  6.312948       23    0   \n",
       "\n",
       "       parameter metadata               \n",
       "               A   run_id elapsed_time  \n",
       "run_id                                  \n",
       "0            0.4        0     0.037584  \n",
       "1            0.5        1     0.030556  \n",
       "2            0.6        2     0.034105  \n",
       "3            0.7        3     0.027761  \n",
       "4            0.8        4     0.030891  \n",
       "5            0.9        5     0.031988  \n",
       "6            1.0        6     0.023222  "
      ]
     },
     "execution_count": 10,
     "metadata": {},
     "output_type": "execute_result"
    }
   ],
   "source": [
    "table = experiment.get_run_table()\n",
    "table"
   ]
  },
  {
   "cell_type": "code",
   "execution_count": 11,
   "metadata": {},
   "outputs": [
    {
     "data": {
      "image/png": "[encoded data removed]",
      "text/plain": [
       "<Figure size 640x480 with 2 Axes>"
      ]
     },
     "metadata": {},
     "output_type": "display_data"
    }
   ],
   "source": [
    "fig, ax1 = plt.subplots()\n",
    "\n",
    "# First y-axis for objective value\n",
    "ax1.set_xlabel(\"Parameter A\")\n",
    "ax1.set_ylabel(\"Objective Value\", color=\"tab:blue\")\n",
    "ax1.plot(table[\"parameter\"][\"A\"], table[\"sampleset_0\"][\"obj_mean\"], \"-o\", color=\"tab:blue\")\n",
    "ax1.tick_params(axis=\"y\", labelcolor=\"tab:blue\")\n",
    "\n",
    "# Second y-axis for feasible count\n",
    "ax2 = ax1.twinx()\n",
    "ax2.set_ylabel(\"Feasible Count\", color=\"tab:orange\")\n",
    "ax2.plot(table[\"parameter\"][\"A\"], table[\"sampleset_0\"][\"feasible\"], \"-o\", color=\"tab:orange\")\n",
    "ax2.tick_params(axis=\"y\", labelcolor=\"tab:orange\")\n",
    "\n",
    "plt.title(\"Objective Value and Feasible Count vs Parameter A\")\n",
    "fig.tight_layout()"
   ]
  },
  {
   "cell_type": "code",
   "execution_count": null,
   "metadata": {},
   "outputs": [],
   "source": []
  }
 ],
 "metadata": {
  "kernelspec": {
   "display_name": "minto",
   "language": "python",
   "name": "python3"
  },
  "language_info": {
   "codemirror_mode": {
    "name": "ipython",
    "version": 3
   },
   "file_extension": ".py",
   "mimetype": "text/x-python",
   "name": "python",
   "nbconvert_exporter": "python",
   "pygments_lexer": "ipython3",
   "version": "3.11.11"
  }
 },
 "nbformat": 4,
 "nbformat_minor": 4
}
