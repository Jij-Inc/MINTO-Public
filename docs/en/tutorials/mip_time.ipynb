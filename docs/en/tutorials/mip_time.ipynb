{
 "cells": [
  {
   "cell_type": "markdown",
   "metadata": {},
   "source": [
    "# Numerical Experiments on Time Limit Dependency of MIP Solver\n",
    "\n",
    "In this notebook, we will conduct numerical experiments on the time limit dependency of MIP solvers using PySCIPOpt, which is supported by OMMX.\n",
    "MINTO natively supports OMMX Message, allowing us to smoothly perform numerical experiments through OMMX. Let's give it a try.\n"
   ]
  },
  {
   "cell_type": "code",
   "execution_count": 1,
   "metadata": {},
   "outputs": [],
   "source": [
    "import minto\n",
    "import ommx_pyscipopt_adapter as scip_ad\n",
    "from ommx.dataset import miplib2017"
   ]
  },
  {
   "cell_type": "markdown",
   "metadata": {},
   "source": [
    "In this tutorial, we will pick up an instance from miplib2017 as a benchmark target. We can easily obtain miplib2017 instances using ommx.dataset."
   ]
  },
  {
   "cell_type": "code",
   "execution_count": 2,
   "metadata": {},
   "outputs": [],
   "source": [
    "instance_name = \"reblock115\"\n",
    "instance = miplib2017(instance_name)"
   ]
  },
  {
   "cell_type": "markdown",
   "metadata": {},
   "source": [
    "Using the ommx_pyscipopt_adapter, we convert ommx.v1.Instance to PySCIPOpt's Model and conduct experiments by varying the limits/time parameter.\n",
    "\n",
    "The ommx instance and solution can be saved using MINTO's `.log_*` methods. Since we're using a single instance that doesn't change throughout this numerical experiment, we store it in the `experiment` space outside the with block. \n",
    "Solutions are saved within the with block (in the `run` space) since they vary for each time limit."
   ]
  },
  {
   "cell_type": "code",
   "execution_count": 3,
   "metadata": {},
   "outputs": [
    {
     "name": "stdout",
     "output_type": "stream",
     "text": [
      "[2025-08-05 09:51:07] 🚀 \u001b[36mStarting experiment '7d8ccf5e'\u001b[0m\n",
      "[2025-08-05 09:51:07]   ├─ 📊 \u001b[36mEnvironment: OS: Darwin 24.5.0, CPU: Apple M2 (8 cores), Memory: 24.0 GB, Python: 3.11.11\u001b[0m\n",
      "[2025-08-05 09:51:07]   ├─ 📊 \u001b[36mEnvironment Information\u001b[0m\n",
      "[2025-08-05 09:51:07]       ├─ \u001b[36mOS: Darwin 24.5.0\u001b[0m\n",
      "[2025-08-05 09:51:07]       ├─ \u001b[36mPlatform: macOS-15.5-arm64-arm-64bit\u001b[0m\n",
      "[2025-08-05 09:51:07]       ├─ \u001b[36mCPU: Apple M2 (8 cores)\u001b[0m\n",
      "[2025-08-05 09:51:07]       ├─ \u001b[36mMemory: 24.0 GB\u001b[0m\n",
      "[2025-08-05 09:51:07]       ├─ \u001b[36mArchitecture: arm64\u001b[0m\n",
      "[2025-08-05 09:51:07]       ├─ \u001b[36mPython: 3.11.11\u001b[0m\n",
      "[2025-08-05 09:51:07]       ├─ \u001b[36mVirtual Environment: /Users/yuyamashiro/workspace/minto/.venv\u001b[0m\n",
      "[2025-08-05 09:51:07]       ├─ \u001b[36mKey Package Versions:\u001b[0m\n",
      "[2025-08-05 09:51:07]   ├─ 🏃 \u001b[36mCreated run #0\u001b[0m\n",
      "[2025-08-05 09:51:07]       ├─ 📝 \u001b[36mParameter: timelimit = 0.1\u001b[0m\n",
      "[2025-08-05 09:51:07]       ├─ 🎯 \u001b[36mSolution 'scip': objective: 0.000, feasible: True\u001b[0m\n",
      "[2025-08-05 09:51:07]   ├─ ✅ \u001b[36mRun #0 completed (0.1s)\u001b[0m\n",
      "[2025-08-05 09:51:07]   ├─ 🏃 \u001b[36mCreated run #1\u001b[0m\n",
      "[2025-08-05 09:51:07]       ├─ 📝 \u001b[36mParameter: timelimit = 0.5\u001b[0m\n",
      "[2025-08-05 09:51:08]       ├─ 🎯 \u001b[36mSolution 'scip': objective: -28241914.988, feasible: True\u001b[0m\n",
      "[2025-08-05 09:51:08]   ├─ ✅ \u001b[36mRun #1 completed (0.4s)\u001b[0m\n",
      "[2025-08-05 09:51:08]   ├─ 🏃 \u001b[36mCreated run #2\u001b[0m\n",
      "[2025-08-05 09:51:08]       ├─ 📝 \u001b[36mParameter: timelimit = 1\u001b[0m\n",
      "[2025-08-05 09:51:08]       ├─ 🎯 \u001b[36mSolution 'scip': objective: -28241914.988, feasible: True\u001b[0m\n",
      "[2025-08-05 09:51:08]   ├─ ✅ \u001b[36mRun #2 completed (0.5s)\u001b[0m\n",
      "[2025-08-05 09:51:08]   ├─ 🏃 \u001b[36mCreated run #3\u001b[0m\n",
      "[2025-08-05 09:51:08]       ├─ 📝 \u001b[36mParameter: timelimit = 2\u001b[0m\n",
      "[2025-08-05 09:51:09]       ├─ 🎯 \u001b[36mSolution 'scip': objective: -28241914.988, feasible: True\u001b[0m\n",
      "[2025-08-05 09:51:09]   ├─ ✅ \u001b[36mRun #3 completed (1.0s)\u001b[0m\n"
     ]
    }
   ],
   "source": [
    "timelimit_list = [0.1, 0.5, 1, 2]\n",
    "\n",
    "\n",
    "experiment = minto.Experiment(auto_saving=False)\n",
    "\n",
    "experiment.log_global_instance(instance_name, instance)\n",
    "adapter = scip_ad.OMMXPySCIPOptAdapter(instance)\n",
    "scip_model = adapter.solver_input\n",
    "\n",
    "for timelimit in timelimit_list:\n",
    "    with experiment.run() as run:\n",
    "        run.log_parameter(\"timelimit\", timelimit)\n",
    "\n",
    "        # Solve by SCIP\n",
    "        scip_model.setParam(\"limits/time\", timelimit)\n",
    "        scip_model.optimize()\n",
    "        solution = adapter.decode(scip_model)\n",
    "\n",
    "        run.log_solution(\"scip\", solution)\n"
   ]
  },
  {
   "cell_type": "markdown",
   "metadata": {},
   "source": [
    "When converting ommx.Solution to pandas.DataFrame using the `.get_run_table` method, only the main information of the solution is displayed. If you want to access the actual solution objects, you can reference them from `experiment.dataspaces.run_datastores[run_id].solutions`."
   ]
  },
  {
   "cell_type": "code",
   "execution_count": 4,
   "metadata": {},
   "outputs": [
    {
     "data": {
      "text/html": [
       "<div>\n",
       "<style scoped>\n",
       "    .dataframe tbody tr th:only-of-type {\n",
       "        vertical-align: middle;\n",
       "    }\n",
       "\n",
       "    .dataframe tbody tr th {\n",
       "        vertical-align: top;\n",
       "    }\n",
       "\n",
       "    .dataframe thead tr th {\n",
       "        text-align: left;\n",
       "    }\n",
       "\n",
       "    .dataframe thead tr:last-of-type th {\n",
       "        text-align: right;\n",
       "    }\n",
       "</style>\n",
       "<table border=\"1\" class=\"dataframe\">\n",
       "  <thead>\n",
       "    <tr>\n",
       "      <th></th>\n",
       "      <th colspan=\"6\" halign=\"left\">solution_scip</th>\n",
       "      <th>parameter</th>\n",
       "      <th colspan=\"2\" halign=\"left\">metadata</th>\n",
       "    </tr>\n",
       "    <tr>\n",
       "      <th></th>\n",
       "      <th>objective</th>\n",
       "      <th>feasible</th>\n",
       "      <th>optimality</th>\n",
       "      <th>relaxation</th>\n",
       "      <th>start</th>\n",
       "      <th>name</th>\n",
       "      <th>timelimit</th>\n",
       "      <th>run_id</th>\n",
       "      <th>elapsed_time</th>\n",
       "    </tr>\n",
       "    <tr>\n",
       "      <th>run_id</th>\n",
       "      <th></th>\n",
       "      <th></th>\n",
       "      <th></th>\n",
       "      <th></th>\n",
       "      <th></th>\n",
       "      <th></th>\n",
       "      <th></th>\n",
       "      <th></th>\n",
       "      <th></th>\n",
       "    </tr>\n",
       "  </thead>\n",
       "  <tbody>\n",
       "    <tr>\n",
       "      <th>0</th>\n",
       "      <td>0.000000e+00</td>\n",
       "      <td>True</td>\n",
       "      <td>0</td>\n",
       "      <td>0</td>\n",
       "      <td>None</td>\n",
       "      <td>scip</td>\n",
       "      <td>0.1</td>\n",
       "      <td>0</td>\n",
       "      <td>0.108667</td>\n",
       "    </tr>\n",
       "    <tr>\n",
       "      <th>1</th>\n",
       "      <td>-2.824191e+07</td>\n",
       "      <td>True</td>\n",
       "      <td>0</td>\n",
       "      <td>0</td>\n",
       "      <td>None</td>\n",
       "      <td>scip</td>\n",
       "      <td>0.5</td>\n",
       "      <td>1</td>\n",
       "      <td>0.407813</td>\n",
       "    </tr>\n",
       "    <tr>\n",
       "      <th>2</th>\n",
       "      <td>-2.824191e+07</td>\n",
       "      <td>True</td>\n",
       "      <td>0</td>\n",
       "      <td>0</td>\n",
       "      <td>None</td>\n",
       "      <td>scip</td>\n",
       "      <td>1.0</td>\n",
       "      <td>2</td>\n",
       "      <td>0.507345</td>\n",
       "    </tr>\n",
       "    <tr>\n",
       "      <th>3</th>\n",
       "      <td>-2.824191e+07</td>\n",
       "      <td>True</td>\n",
       "      <td>0</td>\n",
       "      <td>0</td>\n",
       "      <td>None</td>\n",
       "      <td>scip</td>\n",
       "      <td>2.0</td>\n",
       "      <td>3</td>\n",
       "      <td>1.007069</td>\n",
       "    </tr>\n",
       "  </tbody>\n",
       "</table>\n",
       "</div>"
      ],
      "text/plain": [
       "       solution_scip                                            parameter  \\\n",
       "           objective feasible optimality relaxation start  name timelimit   \n",
       "run_id                                                                      \n",
       "0       0.000000e+00     True          0          0  None  scip       0.1   \n",
       "1      -2.824191e+07     True          0          0  None  scip       0.5   \n",
       "2      -2.824191e+07     True          0          0  None  scip       1.0   \n",
       "3      -2.824191e+07     True          0          0  None  scip       2.0   \n",
       "\n",
       "       metadata               \n",
       "         run_id elapsed_time  \n",
       "run_id                        \n",
       "0             0     0.108667  \n",
       "1             1     0.407813  \n",
       "2             2     0.507345  \n",
       "3             3     1.007069  "
      ]
     },
     "execution_count": 4,
     "metadata": {},
     "output_type": "execute_result"
    }
   ],
   "source": [
    "runs_table = experiment.get_run_table()\n",
    "runs_table"
   ]
  },
  {
   "cell_type": "code",
   "execution_count": 5,
   "metadata": {},
   "outputs": [
    {
     "data": {
      "image/png": "[encoded data removed]",
      "text/plain": [
       "<Figure size 640x480 with 1 Axes>"
      ]
     },
     "metadata": {},
     "output_type": "display_data"
    }
   ],
   "source": [
    "import matplotlib.pyplot as plt\n",
    "\n",
    "x = runs_table[\"parameter\", \"timelimit\"]\n",
    "y = runs_table[\"solution_scip\", \"objective\"]\n",
    "plt.plot(x, y, \"o-\")\n",
    "plt.xlabel(\"Time limit\")\n",
    "plt.ylabel(\"Objective\")\n",
    "plt.show()"
   ]
  },
  {
   "cell_type": "markdown",
   "metadata": {},
   "source": [
    "As MINTO natively supports OMMX, only the main quantities are displayed when shown in a pandas.DataFrame, making it easy to perform statistical analysis."
   ]
  }
 ],
 "metadata": {
  "kernelspec": {
   "display_name": "minto",
   "language": "python",
   "name": "python3"
  },
  "language_info": {
   "codemirror_mode": {
    "name": "ipython",
    "version": 3
   },
   "file_extension": ".py",
   "mimetype": "text/x-python",
   "name": "python",
   "nbconvert_exporter": "python",
   "pygments_lexer": "ipython3",
   "version": "3.11.11"
  }
 },
 "nbformat": 4,
 "nbformat_minor": 4
}
