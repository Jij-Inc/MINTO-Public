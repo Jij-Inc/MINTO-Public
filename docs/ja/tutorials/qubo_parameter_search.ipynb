{
 "cells": [
  {
   "cell_type": "markdown",
   "metadata": {},
   "source": [
    "# QUBOのハイパーパラメータサーチ\n",
    "\n",
    "ここでは、QUMOモデルのハイパーパラメータ空間を探索するために、`MINTO`がどのように使えるかを簡単な例を通して説明します。\n",
    "この例では、2次割当定式化を用いて巡回セールスマン問題を扱います。\n",
    "巡回セールスマン問題についての詳細は、ぜひ他のリソースを参照ください。\n",
    "\n",
    "<!-- # QUBO's hyper parameter search\n",
    "\n",
    "This notebook is a simple example of how to use `MINTO` to explore the hyperparameter space of a QUBO model.\n",
    "For this example, we will handle the Traveling Salesman Problem with the quadratic assignment formulation. For more details about the Traveling Salesman Problem, please refer to other resources. -->"
   ]
  },
  {
   "cell_type": "code",
   "execution_count": 1,
   "metadata": {},
   "outputs": [],
   "source": [
    "import minto\n",
    "import matplotlib.pyplot as plt\n",
    "import jijmodeling as jm"
   ]
  },
  {
   "cell_type": "code",
   "execution_count": 2,
   "metadata": {},
   "outputs": [
    {
     "data": {
      "text/latex": [
       "$$\\begin{array}{cccc}\\text{Problem:} & \\text{QuadTSP} & & \\\\& & \\min \\quad \\displaystyle \\sum_{i = 0}^{n - 1} \\sum_{j = 0}^{n - 1} d_{i, j} \\cdot \\sum_{t = 0}^{n - 1} x_{i, t} \\cdot x_{j, \\left(t + 1\\right) \\bmod n} & \\\\\\text{{s.t.}} & & & \\\\ & \\text{one-city} & \\displaystyle \\sum_{\\ast_{1} = 0}^{n - 1} x_{i, \\ast_{1}} = 1 & \\forall i \\in \\left\\{0,\\ldots,n - 1\\right\\} \\\\ & \\text{one-time} & \\displaystyle \\sum_{\\ast_{0} = 0}^{n - 1} x_{\\ast_{0}, t} = 1 & \\forall t \\in \\left\\{0,\\ldots,n - 1\\right\\} \\\\\\text{{where}} & & & \\\\& x & 2\\text{-dim binary variable}\\\\\\end{array}$$"
      ],
      "text/plain": [
       "<jijmodeling.Problem at 0x13fc99e00>"
      ]
     },
     "execution_count": 2,
     "metadata": {},
     "output_type": "execute_result"
    }
   ],
   "source": [
    "import minto.problems.tsp\n",
    "\n",
    "tsp = minto.problems.tsp.QuadTSP()\n",
    "tsp_problem = tsp.problem()\n",
    "\n",
    "n = 8\n",
    "tsp_data = tsp.data(n=n)\n",
    "\n",
    "tsp_problem"
   ]
  },
  {
   "cell_type": "code",
   "execution_count": 3,
   "metadata": {},
   "outputs": [],
   "source": [
    "interpreter = jm.Interpreter(tsp_data)\n",
    "instance = interpreter.eval_problem(tsp_problem)"
   ]
  },
  {
   "cell_type": "markdown",
   "metadata": {},
   "source": [
    "## QUBO formulation\n",
    "\n",
    "$$\n",
    "E(x; A) = \\sum_{i=0}^{n-1} \\sum_{j=0}^{n-1} d_{ij} \\sum_{t=0}^{n-1} x_{it} x_{j, (t+1)\\mod n} \n",
    "+ A \\left[\n",
    "\\sum_i \\left(\\sum_{t} x_{i, t} - 1\\right)^2 + \\sum_t \\left(\\sum_{i} x_{i, t} - 1\\right)^2\n",
    "\\right]\n",
    "$$\n",
    "\n",
    "The parameter $A$ is a hyperparameter that controls the strength of the constraints.\n",
    "\n",
    "In OMMX, we can tune this parameter using the `.to_qubo(uniform_penalty_weight=...)` method and argument `uniform_penalty_weight` to set the value of $A$."
   ]
  },
  {
   "cell_type": "code",
   "execution_count": 7,
   "metadata": {},
   "outputs": [],
   "source": [
    "import ommx_openjij_adapter as oj_ad\n",
    "\n",
    "parameter_values = [0.4, 0.5, 0.6, 0.7, 0.8, 0.9, 1.0]\n",
    "\n",
    "experiment = minto.Experiment(auto_saving=False, verbose_logging=False)\n",
    "for A in parameter_values:\n",
    "    with experiment.run() as run:\n",
    "        ox_sampleset = oj_ad.OMMXOpenJijSAAdapter.sample(instance, uniform_penalty_weight=A, num_reads=30)\n",
    "        run.log_sampleset(ox_sampleset)\n",
    "        run.log_parameter(\"A\", A)"
   ]
  },
  {
   "cell_type": "code",
   "execution_count": 8,
   "metadata": {},
   "outputs": [
    {
     "data": {
      "text/html": [
       "<div>\n",
       "<style scoped>\n",
       "    .dataframe tbody tr th:only-of-type {\n",
       "        vertical-align: middle;\n",
       "    }\n",
       "\n",
       "    .dataframe tbody tr th {\n",
       "        vertical-align: top;\n",
       "    }\n",
       "\n",
       "    .dataframe thead tr th {\n",
       "        text-align: left;\n",
       "    }\n",
       "\n",
       "    .dataframe thead tr:last-of-type th {\n",
       "        text-align: right;\n",
       "    }\n",
       "</style>\n",
       "<table border=\"1\" class=\"dataframe\">\n",
       "  <thead>\n",
       "    <tr>\n",
       "      <th></th>\n",
       "      <th colspan=\"7\" halign=\"left\">sampleset_0</th>\n",
       "      <th>parameter</th>\n",
       "      <th colspan=\"2\" halign=\"left\">metadata</th>\n",
       "    </tr>\n",
       "    <tr>\n",
       "      <th></th>\n",
       "      <th>num_samples</th>\n",
       "      <th>obj_mean</th>\n",
       "      <th>obj_std</th>\n",
       "      <th>obj_min</th>\n",
       "      <th>obj_max</th>\n",
       "      <th>feasible</th>\n",
       "      <th>name</th>\n",
       "      <th>A</th>\n",
       "      <th>run_id</th>\n",
       "      <th>elapsed_time</th>\n",
       "    </tr>\n",
       "    <tr>\n",
       "      <th>run_id</th>\n",
       "      <th></th>\n",
       "      <th></th>\n",
       "      <th></th>\n",
       "      <th></th>\n",
       "      <th></th>\n",
       "      <th></th>\n",
       "      <th></th>\n",
       "      <th></th>\n",
       "      <th></th>\n",
       "      <th></th>\n",
       "    </tr>\n",
       "  </thead>\n",
       "  <tbody>\n",
       "    <tr>\n",
       "      <th>0</th>\n",
       "      <td>30</td>\n",
       "      <td>3.353026</td>\n",
       "      <td>0.499013</td>\n",
       "      <td>2.355019</td>\n",
       "      <td>4.268100</td>\n",
       "      <td>0</td>\n",
       "      <td>0</td>\n",
       "      <td>0.4</td>\n",
       "      <td>0</td>\n",
       "      <td>0.042427</td>\n",
       "    </tr>\n",
       "    <tr>\n",
       "      <th>1</th>\n",
       "      <td>30</td>\n",
       "      <td>3.383542</td>\n",
       "      <td>0.700817</td>\n",
       "      <td>2.340510</td>\n",
       "      <td>4.839428</td>\n",
       "      <td>0</td>\n",
       "      <td>0</td>\n",
       "      <td>0.5</td>\n",
       "      <td>1</td>\n",
       "      <td>0.034157</td>\n",
       "    </tr>\n",
       "    <tr>\n",
       "      <th>2</th>\n",
       "      <td>30</td>\n",
       "      <td>6.323973</td>\n",
       "      <td>1.107701</td>\n",
       "      <td>4.669342</td>\n",
       "      <td>8.462845</td>\n",
       "      <td>0</td>\n",
       "      <td>0</td>\n",
       "      <td>0.6</td>\n",
       "      <td>2</td>\n",
       "      <td>0.036005</td>\n",
       "    </tr>\n",
       "    <tr>\n",
       "      <th>3</th>\n",
       "      <td>30</td>\n",
       "      <td>2.939773</td>\n",
       "      <td>0.576959</td>\n",
       "      <td>2.220747</td>\n",
       "      <td>4.255948</td>\n",
       "      <td>16</td>\n",
       "      <td>0</td>\n",
       "      <td>0.7</td>\n",
       "      <td>3</td>\n",
       "      <td>0.028858</td>\n",
       "    </tr>\n",
       "    <tr>\n",
       "      <th>4</th>\n",
       "      <td>30</td>\n",
       "      <td>2.536650</td>\n",
       "      <td>0.234261</td>\n",
       "      <td>2.220747</td>\n",
       "      <td>3.052677</td>\n",
       "      <td>29</td>\n",
       "      <td>0</td>\n",
       "      <td>0.8</td>\n",
       "      <td>4</td>\n",
       "      <td>0.028297</td>\n",
       "    </tr>\n",
       "    <tr>\n",
       "      <th>5</th>\n",
       "      <td>30</td>\n",
       "      <td>2.686100</td>\n",
       "      <td>0.275722</td>\n",
       "      <td>2.220747</td>\n",
       "      <td>3.506836</td>\n",
       "      <td>30</td>\n",
       "      <td>0</td>\n",
       "      <td>0.9</td>\n",
       "      <td>5</td>\n",
       "      <td>0.021842</td>\n",
       "    </tr>\n",
       "    <tr>\n",
       "      <th>6</th>\n",
       "      <td>30</td>\n",
       "      <td>2.722490</td>\n",
       "      <td>0.341214</td>\n",
       "      <td>2.220747</td>\n",
       "      <td>3.609280</td>\n",
       "      <td>30</td>\n",
       "      <td>0</td>\n",
       "      <td>1.0</td>\n",
       "      <td>6</td>\n",
       "      <td>0.022454</td>\n",
       "    </tr>\n",
       "  </tbody>\n",
       "</table>\n",
       "</div>"
      ],
      "text/plain": [
       "       sampleset_0                                                        \\\n",
       "       num_samples  obj_mean   obj_std   obj_min   obj_max feasible name   \n",
       "run_id                                                                     \n",
       "0               30  3.353026  0.499013  2.355019  4.268100        0    0   \n",
       "1               30  3.383542  0.700817  2.340510  4.839428        0    0   \n",
       "2               30  6.323973  1.107701  4.669342  8.462845        0    0   \n",
       "3               30  2.939773  0.576959  2.220747  4.255948       16    0   \n",
       "4               30  2.536650  0.234261  2.220747  3.052677       29    0   \n",
       "5               30  2.686100  0.275722  2.220747  3.506836       30    0   \n",
       "6               30  2.722490  0.341214  2.220747  3.609280       30    0   \n",
       "\n",
       "       parameter metadata               \n",
       "               A   run_id elapsed_time  \n",
       "run_id                                  \n",
       "0            0.4        0     0.042427  \n",
       "1            0.5        1     0.034157  \n",
       "2            0.6        2     0.036005  \n",
       "3            0.7        3     0.028858  \n",
       "4            0.8        4     0.028297  \n",
       "5            0.9        5     0.021842  \n",
       "6            1.0        6     0.022454  "
      ]
     },
     "execution_count": 8,
     "metadata": {},
     "output_type": "execute_result"
    }
   ],
   "source": [
    "table = experiment.get_run_table()\n",
    "table"
   ]
  },
  {
   "cell_type": "code",
   "execution_count": 9,
   "metadata": {},
   "outputs": [
    {
     "data": {
      "image/png": "[encoded data removed]",
      "text/plain": [
       "<Figure size 640x480 with 2 Axes>"
      ]
     },
     "metadata": {},
     "output_type": "display_data"
    }
   ],
   "source": [
    "fig, ax1 = plt.subplots()\n",
    "\n",
    "# First y-axis for objective value\n",
    "ax1.set_xlabel(\"Parameter A\")\n",
    "ax1.set_ylabel(\"Objective Value\", color=\"tab:blue\")\n",
    "ax1.plot(table[\"parameter\"][\"A\"], table[\"sampleset_0\"][\"obj_mean\"], \"-o\", color=\"tab:blue\")\n",
    "ax1.tick_params(axis=\"y\", labelcolor=\"tab:blue\")\n",
    "\n",
    "# Second y-axis for feasible count\n",
    "ax2 = ax1.twinx()\n",
    "ax2.set_ylabel(\"Feasible Count\", color=\"tab:orange\")\n",
    "ax2.plot(table[\"parameter\"][\"A\"], table[\"sampleset_0\"][\"feasible\"], \"-o\", color=\"tab:orange\")\n",
    "ax2.tick_params(axis=\"y\", labelcolor=\"tab:orange\")\n",
    "\n",
    "plt.title(\"Objective Value and Feasible Count vs Parameter A\")\n",
    "fig.tight_layout()"
   ]
  },
  {
   "cell_type": "code",
   "execution_count": null,
   "metadata": {},
   "outputs": [],
   "source": []
  }
 ],
 "metadata": {
  "kernelspec": {
   "display_name": "minto",
   "language": "python",
   "name": "python3"
  },
  "language_info": {
   "codemirror_mode": {
    "name": "ipython",
    "version": 3
   },
   "file_extension": ".py",
   "mimetype": "text/x-python",
   "name": "python",
   "nbconvert_exporter": "python",
   "pygments_lexer": "ipython3",
   "version": "3.11.11"
  }
 },
 "nbformat": 4,
 "nbformat_minor": 4
}
